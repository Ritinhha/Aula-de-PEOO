{
  "nbformat": 4,
  "nbformat_minor": 0,
  "metadata": {
    "colab": {
      "provenance": [],
      "authorship_tag": "ABX9TyN1jm1i8TeOs+xxFhOMAwwq",
      "include_colab_link": true
    },
    "kernelspec": {
      "name": "python3",
      "display_name": "Python 3"
    },
    "language_info": {
      "name": "python"
    }
  },
  "cells": [
    {
      "cell_type": "markdown",
      "metadata": {
        "id": "view-in-github",
        "colab_type": "text"
      },
      "source": [
        "<a href=\"https://colab.research.google.com/github/Ritinhha/Aula-de-PEOO/blob/main/PEOO2b.ipynb\" target=\"_parent\"><img src=\"https://colab.research.google.com/assets/colab-badge.svg\" alt=\"Open In Colab\"/></a>"
      ]
    },
    {
      "cell_type": "code",
      "source": [
        "class Triangulo:\n",
        "  def __init__(self, b, h):\n",
        "    self.__b = b\n",
        "    self.__h = h\n",
        "\n",
        "  def calc_area(self):\n",
        "    return ((self.__b * self.__h) / 2)\n",
        "\n",
        "class UI:\n",
        "  @staticmethod\n",
        "  def main():\n",
        "    x = Triangulo(10, 20)\n",
        "    y = Triangulo(30, 40)\n",
        "    print(x.calc_area())\n",
        "    print(y.calc_area())\n",
        "\n",
        "  UI.main()"
      ],
      "metadata": {
        "colab": {
          "base_uri": "https://localhost:8080/"
        },
        "id": "OnJEQOxOprKi",
        "outputId": "55ab46fe-8ad8-4c6c-8e7e-680da0645c47"
      },
      "execution_count": null,
      "outputs": [
        {
          "output_type": "stream",
          "name": "stdout",
          "text": [
            "100.0\n",
            "600.0\n"
          ]
        }
      ]
    },
    {
      "cell_type": "code",
      "source": [
        "class Academia():\n",
        " def __init__ (self, nome, endereco, esportes):\n",
        "    self.__nome = nome\n",
        "    self.__endereco = endereco\n",
        "    self.__esportes = []\n",
        "\n",
        " def inserir (self, esportes):\n",
        "    self.__esportes.append()\n",
        " def listar():\n",
        "\n",
        "\n"
      ],
      "metadata": {
        "id": "YCKnVJF0s3Nb"
      },
      "execution_count": null,
      "outputs": []
    },
    {
      "cell_type": "code",
      "source": [
        "class Circulo:\n",
        "  def __init__(self):\n",
        "    self.__raio = 0\n",
        "  def set_raio(self, v):\n",
        "    if (v > 0):\n",
        "      self.__raio = v\n",
        "    else: raise ValueError()\n",
        "  def get_raio(self):\n",
        "    return self.__raio\n",
        "  def calc_area(self):\n",
        "    return (3.14 *(self.__raio*self.__raio))\n",
        "  def calc_circuferencia(self):\n",
        "    return(2 * (3.14 * self.__raio))\n",
        "class UI:\n",
        "  @staticmethod\n",
        "  def main():\n",
        "    c = Circulo()\n",
        "    c.set_raio(float(input()))\n",
        "    print(c.get_raio())\n",
        "    print(c.calc_area())\n",
        "    print(c.calc_circuferencia())\n",
        "UI.main()\n",
        "\n"
      ],
      "metadata": {
        "colab": {
          "base_uri": "https://localhost:8080/"
        },
        "id": "dXZTgmvNurJS",
        "outputId": "5cd061e3-2489-48c5-9cb6-873097381c55"
      },
      "execution_count": null,
      "outputs": [
        {
          "output_type": "stream",
          "name": "stdout",
          "text": [
            "30\n",
            "30.0\n",
            "2826.0\n",
            "188.4\n"
          ]
        }
      ]
    },
    {
      "cell_type": "code",
      "source": [
        "class Viagem:\n",
        "  def __init__(self):\n",
        "    self.__distancia = 0\n",
        "    self.__tempo = 0\n",
        "  def set_distancia(self, distancia):\n",
        "    if(distancia > 0):\n",
        "      self.__distancia = distancia\n",
        "    else: raise ValueError()\n",
        "  def set_tempo(self, tempo):\n",
        "    if(tempo > 0):\n",
        "      self.__tempo = tempo\n",
        "    else: raise ValueError()\n",
        "  def get_distancia(self):\n",
        "   return(self.__distancia)\n",
        "  def get_tempo(self):\n",
        "   return(self.__tempo)\n",
        "  def velocidade_media(self):\n",
        "   return(self.__distancia / self.__tempo)\n",
        "  def __str__(self):\n",
        "    return f\"Tempo: {self.__tempo} e Distância: {self.__distancia}\"\n",
        "\n",
        "class UI:\n",
        " @staticmethod\n",
        " def main():\n",
        "  v = Viagem()\n",
        "  v.set_distancia(float(input()))\n",
        "  v.set_tempo(float(input()))\n",
        "  print(v.get_distancia())\n",
        "  print(v.get_tempo())\n",
        "  print(v.velocidade_media())\n",
        "  print(v)\n",
        "UI.main()\n",
        "\n",
        "\n",
        "\n"
      ],
      "metadata": {
        "colab": {
          "base_uri": "https://localhost:8080/"
        },
        "id": "tFm2Iimx24B_",
        "outputId": "94376121-f49b-4646-bd8e-8b17aab4ff83"
      },
      "execution_count": null,
      "outputs": [
        {
          "output_type": "stream",
          "name": "stdout",
          "text": [
            "20\n",
            "10\n",
            "20.0\n",
            "10.0\n",
            "2.0\n",
            "<__main__.Viagem object at 0x7f5723258700>\n"
          ]
        }
      ]
    },
    {
      "cell_type": "code",
      "source": [],
      "metadata": {
        "id": "71bwGUnh9B2P"
      },
      "execution_count": null,
      "outputs": []
    },
    {
      "cell_type": "markdown",
      "source": [
        "encapsulamento 15/05"
      ],
      "metadata": {
        "id": "8ovBP661vqXW"
      }
    },
    {
      "cell_type": "code",
      "execution_count": null,
      "metadata": {
        "id": "nVniWykNvjRr",
        "colab": {
          "base_uri": "https://localhost:8080/",
          "height": 380
        },
        "outputId": "ee9ecdca-3451-482f-92f0-b85f5a99ff54"
      },
      "outputs": [
        {
          "output_type": "error",
          "ename": "NameError",
          "evalue": "ignored",
          "traceback": [
            "\u001b[0;31m---------------------------------------------------------------------------\u001b[0m",
            "\u001b[0;31mNameError\u001b[0m                                 Traceback (most recent call last)",
            "\u001b[0;32m<ipython-input-13-3a876aa7c519>\u001b[0m in \u001b[0;36m<cell line: 1>\u001b[0;34m()\u001b[0m\n\u001b[0;32m----> 1\u001b[0;31m \u001b[0;32mclass\u001b[0m \u001b[0mRetangulo\u001b[0m\u001b[0;34m:\u001b[0m\u001b[0;34m\u001b[0m\u001b[0;34m\u001b[0m\u001b[0m\n\u001b[0m\u001b[1;32m      2\u001b[0m   \u001b[0;32mdef\u001b[0m \u001b[0m__init__\u001b[0m\u001b[0;34m(\u001b[0m\u001b[0mself\u001b[0m\u001b[0;34m)\u001b[0m\u001b[0;34m:\u001b[0m\u001b[0;34m\u001b[0m\u001b[0;34m\u001b[0m\u001b[0m\n\u001b[1;32m      3\u001b[0m     \u001b[0mself\u001b[0m\u001b[0;34m.\u001b[0m\u001b[0m__h\u001b[0m \u001b[0;34m=\u001b[0m \u001b[0;36m0\u001b[0m\u001b[0;34m\u001b[0m\u001b[0;34m\u001b[0m\u001b[0m\n\u001b[1;32m      4\u001b[0m     \u001b[0mself\u001b[0m\u001b[0;34m.\u001b[0m\u001b[0m__b\u001b[0m \u001b[0;34m=\u001b[0m \u001b[0;36m0\u001b[0m\u001b[0;34m\u001b[0m\u001b[0;34m\u001b[0m\u001b[0m\n\u001b[1;32m      5\u001b[0m   \u001b[0;32mdef\u001b[0m \u001b[0mset_altura\u001b[0m\u001b[0;34m(\u001b[0m\u001b[0mself\u001b[0m\u001b[0;34m,\u001b[0m \u001b[0mh\u001b[0m\u001b[0;34m)\u001b[0m\u001b[0;34m:\u001b[0m\u001b[0;34m\u001b[0m\u001b[0;34m\u001b[0m\u001b[0m\n",
            "\u001b[0;32m<ipython-input-13-3a876aa7c519>\u001b[0m in \u001b[0;36mRetangulo\u001b[0;34m()\u001b[0m\n\u001b[1;32m     33\u001b[0m       \u001b[0mprint\u001b[0m\u001b[0;34m(\u001b[0m\u001b[0mr\u001b[0m\u001b[0;34m)\u001b[0m\u001b[0;34m\u001b[0m\u001b[0;34m\u001b[0m\u001b[0m\n\u001b[1;32m     34\u001b[0m \u001b[0;34m\u001b[0m\u001b[0m\n\u001b[0;32m---> 35\u001b[0;31m   \u001b[0mUI\u001b[0m\u001b[0;34m.\u001b[0m\u001b[0mmain\u001b[0m\u001b[0;34m(\u001b[0m\u001b[0;34m)\u001b[0m\u001b[0;34m\u001b[0m\u001b[0;34m\u001b[0m\u001b[0m\n\u001b[0m",
            "\u001b[0;32m<ipython-input-13-3a876aa7c519>\u001b[0m in \u001b[0;36mmain\u001b[0;34m()\u001b[0m\n\u001b[1;32m     25\u001b[0m     \u001b[0;34m@\u001b[0m\u001b[0mstaticmethod\u001b[0m\u001b[0;34m\u001b[0m\u001b[0;34m\u001b[0m\u001b[0m\n\u001b[1;32m     26\u001b[0m     \u001b[0;32mdef\u001b[0m \u001b[0mmain\u001b[0m\u001b[0;34m(\u001b[0m\u001b[0;34m)\u001b[0m\u001b[0;34m:\u001b[0m\u001b[0;34m\u001b[0m\u001b[0;34m\u001b[0m\u001b[0m\n\u001b[0;32m---> 27\u001b[0;31m       \u001b[0mr\u001b[0m \u001b[0;34m=\u001b[0m \u001b[0mRetangulo\u001b[0m\u001b[0;34m(\u001b[0m\u001b[0;34m)\u001b[0m\u001b[0;34m\u001b[0m\u001b[0;34m\u001b[0m\u001b[0m\n\u001b[0m\u001b[1;32m     28\u001b[0m       \u001b[0mr\u001b[0m\u001b[0;34m.\u001b[0m\u001b[0mset_base\u001b[0m\u001b[0;34m(\u001b[0m\u001b[0mfloat\u001b[0m\u001b[0;34m(\u001b[0m\u001b[0minput\u001b[0m\u001b[0;34m(\u001b[0m\u001b[0;34m)\u001b[0m\u001b[0;34m)\u001b[0m\u001b[0;34m)\u001b[0m\u001b[0;34m\u001b[0m\u001b[0;34m\u001b[0m\u001b[0m\n\u001b[1;32m     29\u001b[0m       \u001b[0mr\u001b[0m\u001b[0;34m.\u001b[0m\u001b[0mset_altura\u001b[0m\u001b[0;34m(\u001b[0m\u001b[0mfloat\u001b[0m\u001b[0;34m(\u001b[0m\u001b[0minput\u001b[0m\u001b[0;34m(\u001b[0m\u001b[0;34m)\u001b[0m\u001b[0;34m)\u001b[0m\u001b[0;34m)\u001b[0m\u001b[0;34m\u001b[0m\u001b[0;34m\u001b[0m\u001b[0m\n",
            "\u001b[0;31mNameError\u001b[0m: name 'Retangulo' is not defined"
          ]
        }
      ],
      "source": [
        "class Retangulo:\n",
        "  def __init__(self):\n",
        "    self.__h = 0\n",
        "    self.__b = 0\n",
        "  def set_altura(self, h):\n",
        "   if (h > 0):\n",
        "    self.__h = h\n",
        "   else: raise ValueError()\n",
        "  def set_base(self, b):\n",
        "    if (b > 0):\n",
        "     self.__b = b\n",
        "    else: raise ValueError()\n",
        "  def get_altura(self):\n",
        "   return (self.__h)\n",
        "  def get_base(self):\n",
        "   return (self._b)\n",
        "  def calc_area(self):\n",
        "   return(self.__h * self.__b)\n",
        "  def calc_diagonal(self):\n",
        "   return((self.__h * self.__h)*(self.__b * self.__b))\n",
        "  def __str__(self):\n",
        "   return f\"A base do retangulo:{self.__b}, e altura é:{self.__h}\"\n",
        "\n",
        "  class UI:\n",
        "    @staticmethod\n",
        "    def main():\n",
        "      r = Retangulo()\n",
        "      r.set_base(float(input()))\n",
        "      r.set_altura(float(input()))\n",
        "      print(r.get_base())\n",
        "      print(r.get_altura())\n",
        "      print(r.calc_area())\n",
        "      print(r)\n",
        "\n",
        "  UI.main()"
      ]
    },
    {
      "cell_type": "markdown",
      "source": [
        "16/06 aula"
      ],
      "metadata": {
        "id": "LS2OIZd2G1O6"
      }
    },
    {
      "cell_type": "code",
      "source": [
        "class empresa:\n",
        "  def __init__(self):\n",
        "    self__clientes = cliente[]\n",
        "\n",
        "  def inserir(self, clientes):\n",
        "\n",
        "  def listar(self, clientes):\n",
        "\n",
        "class cliente:\n",
        "  def __init__(self):\n",
        "    self.__nome = 0\n",
        "    self.__cpf = 0\n",
        "    self.__limite = 0\n",
        "    self.__socio = cliente[]\n",
        "\n",
        "  def cliente(self, nome, cpf, limite, socio):\n",
        "    if(cpf => 0)\n",
        "    self.__cpf = cpf\n",
        "    if(limite => 0)\n",
        "    self.__limite = limite\n",
        "    if (socio => 0)\n",
        "    self.__socio = socio\n",
        "\n",
        "  def set_socio(self, cliente):\n",
        "   if (cliente > 0):\n",
        "    self.__cliente = cliente\n",
        "  def get_limite(self):\n",
        "    return (self__limite + self.__socio)\n",
        "  def __str__(self):\n",
        "    return f\"Cliente{self.__cliente}, cpf{self.__cpf}, limite{self.__limite}\"\n",
        "\n",
        "class UI:\n",
        "    @staticmethod\n",
        "    def main():\n",
        "     E = empresa():\n",
        "     C = cliente():\n",
        "\n",
        "     C.nome(float(input(Digite seu nome)))\n",
        "     C.cpf(float(input(digite seu cpf)))\n",
        "     C.limite(float(input(digite seu limite)))\n",
        "     C.socio(float(input(digite o limite do seu socio)))\n",
        "     print(C.nome())\n",
        "     print(C.cpf())\n",
        "     print(C.limite())\n",
        "     print(C)\n",
        "\n",
        "\n",
        "\n"
      ],
      "metadata": {
        "id": "ziRO9lWBG6jb"
      },
      "execution_count": null,
      "outputs": []
    },
    {
      "cell_type": "code",
      "source": [
        "class Time:\n",
        " def __init__(self, nome):\n",
        "  self.__nome = nome\n",
        "  #self.__estado = 0\n",
        "  self.__jogadores = []\n",
        "\n",
        " def inserir (self, jogador):\n",
        "   self.__jogadores.append(jogador)\n",
        " def listar (self):\n",
        "   return self.__jogadores\n",
        " def artilheiro(self):\n",
        "   if len(self.__jogadores) == 0: return None\n",
        "   art = self.__jogadores[0]\n",
        "   for j in self.__jogadores:\n",
        "    if j.get_gols() > art.get_gols():\n",
        "        art = j\n",
        "   return art\n",
        "\n",
        "class Jogador:\n",
        " def __init__ (self, nome, gols):\n",
        "  self.__nome = nome\n",
        "  #self.__camisa = 0\n",
        "  self.__gols = gols\n",
        "\n",
        " def get_gols(self):\n",
        "  return self.__gols\n",
        "\n",
        " def __str__(self):\n",
        "    return f\"{self.__nome} - {self.__gols} gol(s)\"\n",
        "\n",
        "class UI:\n",
        "\n",
        "  @staticmethod\n",
        "  def menu():\n",
        "    print(\"0-Fim, 1-Inserir, 2-Listar, 3-Artilheiro\")\n",
        "    return int(input())\n",
        "\n",
        "  @staticmethod\n",
        "  def main():\n",
        "    op = 10\n",
        "    x = Time(\"IFRN\")\n",
        "    while op != 0:\n",
        "      op = UI.menu()\n",
        "      if op == 1:\n",
        "        nome = input(\"Nome do jogador: \")\n",
        "        gols = int(input(\"Gols: \"))\n",
        "        j = Jogador(nome, gols)\n",
        "        x.inserir(j)\n",
        "      if op == 2:\n",
        "        for j in x.listar():\n",
        "          print(j)\n",
        "      if op == 3:\n",
        "        print(x.artilheiro())\n",
        "\n",
        "\n",
        "UI.main()\n",
        "\n"
      ],
      "metadata": {
        "id": "W9yEfAVRNKQY",
        "colab": {
          "base_uri": "https://localhost:8080/",
          "height": 380
        },
        "outputId": "91df8c51-6041-4ca1-fee3-490023e7face"
      },
      "execution_count": null,
      "outputs": [
        {
          "output_type": "stream",
          "name": "stdout",
          "text": [
            "0-Fim, 1-Inserir, 2-Listar, 3-Artilheiro\n"
          ]
        },
        {
          "output_type": "error",
          "ename": "KeyboardInterrupt",
          "evalue": "ignored",
          "traceback": [
            "\u001b[0;31m---------------------------------------------------------------------------\u001b[0m",
            "\u001b[0;31mKeyboardInterrupt\u001b[0m                         Traceback (most recent call last)",
            "\u001b[0;32m<ipython-input-39-412332695ebc>\u001b[0m in \u001b[0;36m<cell line: 56>\u001b[0;34m()\u001b[0m\n\u001b[1;32m     54\u001b[0m \u001b[0;34m\u001b[0m\u001b[0m\n\u001b[1;32m     55\u001b[0m \u001b[0;34m\u001b[0m\u001b[0m\n\u001b[0;32m---> 56\u001b[0;31m \u001b[0mUI\u001b[0m\u001b[0;34m.\u001b[0m\u001b[0mmain\u001b[0m\u001b[0;34m(\u001b[0m\u001b[0;34m)\u001b[0m\u001b[0;34m\u001b[0m\u001b[0;34m\u001b[0m\u001b[0m\n\u001b[0m\u001b[1;32m     57\u001b[0m \u001b[0;34m\u001b[0m\u001b[0m\n",
            "\u001b[0;32m<ipython-input-39-412332695ebc>\u001b[0m in \u001b[0;36mmain\u001b[0;34m()\u001b[0m\n\u001b[1;32m     41\u001b[0m     \u001b[0mx\u001b[0m \u001b[0;34m=\u001b[0m \u001b[0mTime\u001b[0m\u001b[0;34m(\u001b[0m\u001b[0;34m\"IFRN\"\u001b[0m\u001b[0;34m)\u001b[0m\u001b[0;34m\u001b[0m\u001b[0;34m\u001b[0m\u001b[0m\n\u001b[1;32m     42\u001b[0m     \u001b[0;32mwhile\u001b[0m \u001b[0mop\u001b[0m \u001b[0;34m!=\u001b[0m \u001b[0;36m0\u001b[0m\u001b[0;34m:\u001b[0m\u001b[0;34m\u001b[0m\u001b[0;34m\u001b[0m\u001b[0m\n\u001b[0;32m---> 43\u001b[0;31m       \u001b[0mop\u001b[0m \u001b[0;34m=\u001b[0m \u001b[0mUI\u001b[0m\u001b[0;34m.\u001b[0m\u001b[0mmenu\u001b[0m\u001b[0;34m(\u001b[0m\u001b[0;34m)\u001b[0m\u001b[0;34m\u001b[0m\u001b[0;34m\u001b[0m\u001b[0m\n\u001b[0m\u001b[1;32m     44\u001b[0m       \u001b[0;32mif\u001b[0m \u001b[0mop\u001b[0m \u001b[0;34m==\u001b[0m \u001b[0;36m1\u001b[0m\u001b[0;34m:\u001b[0m\u001b[0;34m\u001b[0m\u001b[0;34m\u001b[0m\u001b[0m\n\u001b[1;32m     45\u001b[0m         \u001b[0mnome\u001b[0m \u001b[0;34m=\u001b[0m \u001b[0minput\u001b[0m\u001b[0;34m(\u001b[0m\u001b[0;34m\"Nome do jogador: \"\u001b[0m\u001b[0;34m)\u001b[0m\u001b[0;34m\u001b[0m\u001b[0;34m\u001b[0m\u001b[0m\n",
            "\u001b[0;32m<ipython-input-39-412332695ebc>\u001b[0m in \u001b[0;36mmenu\u001b[0;34m()\u001b[0m\n\u001b[1;32m     34\u001b[0m   \u001b[0;32mdef\u001b[0m \u001b[0mmenu\u001b[0m\u001b[0;34m(\u001b[0m\u001b[0;34m)\u001b[0m\u001b[0;34m:\u001b[0m\u001b[0;34m\u001b[0m\u001b[0;34m\u001b[0m\u001b[0m\n\u001b[1;32m     35\u001b[0m     \u001b[0mprint\u001b[0m\u001b[0;34m(\u001b[0m\u001b[0;34m\"0-Fim, 1-Inserir, 2-Listar, 3-Artilheiro\"\u001b[0m\u001b[0;34m)\u001b[0m\u001b[0;34m\u001b[0m\u001b[0;34m\u001b[0m\u001b[0m\n\u001b[0;32m---> 36\u001b[0;31m     \u001b[0;32mreturn\u001b[0m \u001b[0mint\u001b[0m\u001b[0;34m(\u001b[0m\u001b[0minput\u001b[0m\u001b[0;34m(\u001b[0m\u001b[0;34m)\u001b[0m\u001b[0;34m)\u001b[0m\u001b[0;34m\u001b[0m\u001b[0;34m\u001b[0m\u001b[0m\n\u001b[0m\u001b[1;32m     37\u001b[0m \u001b[0;34m\u001b[0m\u001b[0m\n\u001b[1;32m     38\u001b[0m   \u001b[0;34m@\u001b[0m\u001b[0mstaticmethod\u001b[0m\u001b[0;34m\u001b[0m\u001b[0;34m\u001b[0m\u001b[0m\n",
            "\u001b[0;32m/usr/local/lib/python3.10/dist-packages/ipykernel/kernelbase.py\u001b[0m in \u001b[0;36mraw_input\u001b[0;34m(self, prompt)\u001b[0m\n\u001b[1;32m    849\u001b[0m                 \u001b[0;34m\"raw_input was called, but this frontend does not support input requests.\"\u001b[0m\u001b[0;34m\u001b[0m\u001b[0;34m\u001b[0m\u001b[0m\n\u001b[1;32m    850\u001b[0m             )\n\u001b[0;32m--> 851\u001b[0;31m         return self._input_request(str(prompt),\n\u001b[0m\u001b[1;32m    852\u001b[0m             \u001b[0mself\u001b[0m\u001b[0;34m.\u001b[0m\u001b[0m_parent_ident\u001b[0m\u001b[0;34m,\u001b[0m\u001b[0;34m\u001b[0m\u001b[0;34m\u001b[0m\u001b[0m\n\u001b[1;32m    853\u001b[0m             \u001b[0mself\u001b[0m\u001b[0;34m.\u001b[0m\u001b[0m_parent_header\u001b[0m\u001b[0;34m,\u001b[0m\u001b[0;34m\u001b[0m\u001b[0;34m\u001b[0m\u001b[0m\n",
            "\u001b[0;32m/usr/local/lib/python3.10/dist-packages/ipykernel/kernelbase.py\u001b[0m in \u001b[0;36m_input_request\u001b[0;34m(self, prompt, ident, parent, password)\u001b[0m\n\u001b[1;32m    893\u001b[0m             \u001b[0;32mexcept\u001b[0m \u001b[0mKeyboardInterrupt\u001b[0m\u001b[0;34m:\u001b[0m\u001b[0;34m\u001b[0m\u001b[0;34m\u001b[0m\u001b[0m\n\u001b[1;32m    894\u001b[0m                 \u001b[0;31m# re-raise KeyboardInterrupt, to truncate traceback\u001b[0m\u001b[0;34m\u001b[0m\u001b[0;34m\u001b[0m\u001b[0m\n\u001b[0;32m--> 895\u001b[0;31m                 \u001b[0;32mraise\u001b[0m \u001b[0mKeyboardInterrupt\u001b[0m\u001b[0;34m(\u001b[0m\u001b[0;34m\"Interrupted by user\"\u001b[0m\u001b[0;34m)\u001b[0m \u001b[0;32mfrom\u001b[0m \u001b[0;32mNone\u001b[0m\u001b[0;34m\u001b[0m\u001b[0;34m\u001b[0m\u001b[0m\n\u001b[0m\u001b[1;32m    896\u001b[0m             \u001b[0;32mexcept\u001b[0m \u001b[0mException\u001b[0m \u001b[0;32mas\u001b[0m \u001b[0me\u001b[0m\u001b[0;34m:\u001b[0m\u001b[0;34m\u001b[0m\u001b[0;34m\u001b[0m\u001b[0m\n\u001b[1;32m    897\u001b[0m                 \u001b[0mself\u001b[0m\u001b[0;34m.\u001b[0m\u001b[0mlog\u001b[0m\u001b[0;34m.\u001b[0m\u001b[0mwarning\u001b[0m\u001b[0;34m(\u001b[0m\u001b[0;34m\"Invalid Message:\"\u001b[0m\u001b[0;34m,\u001b[0m \u001b[0mexc_info\u001b[0m\u001b[0;34m=\u001b[0m\u001b[0;32mTrue\u001b[0m\u001b[0;34m)\u001b[0m\u001b[0;34m\u001b[0m\u001b[0;34m\u001b[0m\u001b[0m\n",
            "\u001b[0;31mKeyboardInterrupt\u001b[0m: Interrupted by user"
          ]
        }
      ]
    },
    {
      "cell_type": "code",
      "source": [
        "import random\n",
        "\n",
        "class Bingo():\n",
        "  def __init__(self):\n",
        "    self.__numbolas = 10\n",
        "    self.__sorteados = []\n",
        "\n",
        "  def iniciar (self, numbolas):\n",
        "   if (self.__numbolas > 0):\n",
        "    self.__numbolas = numbolas\n",
        "   else: raise ValueError\n",
        "\n",
        "  def proximo (self):\n",
        "   if len(self.__sorteados) == self.__numbolas:\n",
        "    return -1\n",
        "   x = random.randrange(1 , self.__numbolas +1)\n",
        "   while x in self.__sorteados:\n",
        "    x = random.randrange(1, self.__numbolas +1)\n",
        "   self.__sorteados.append(x)\n",
        "   return x\n",
        "\n",
        "  def sorteados(self):\n",
        "   return self.__sorteados\n",
        "\n",
        "class UI():\n",
        "\n",
        "  @staticmethod\n",
        "  def menu():\n",
        "   print(\"0 - Fim  1 - Iniciar  2 - Sorteados  3 - Sortear\")\n",
        "   return int(input())\n",
        "\n",
        "  @staticmethod\n",
        "  def main():\n",
        "    b = Bingo() #passar atributos do contrutor sa class\n",
        "    op = 10\n",
        "\n",
        "    while op != 0:\n",
        "      op = UI.menu()\n",
        "      if op == 1:\n",
        "        b.iniciar(int(input(\"Numero de bolas\")))\n",
        "      if op == 2:\n",
        "        print(b.sorteados())\n",
        "      if op == 3:\n",
        "        a = b.proximo()\n",
        "        if a == -1 : print(\"O jogo acabou\")\n",
        "        else: print(f\"O número sorteado foi: {a}\" )\n",
        "\n",
        "\n",
        "\n",
        "UI.main()"
      ],
      "metadata": {
        "colab": {
          "base_uri": "https://localhost:8080/",
          "height": 571
        },
        "id": "_Zhlmab_pQzl",
        "outputId": "a52629ce-1b28-41bd-a777-5cc2e60e02cc"
      },
      "execution_count": null,
      "outputs": [
        {
          "output_type": "stream",
          "name": "stdout",
          "text": [
            "0 - Fim  1 - Iniciar  2 - Sorteados  3 - Sortear\n",
            "1\n",
            "Numero de bolas2\n",
            "0 - Fim  1 - Iniciar  2 - Sorteados  3 - Sortear\n",
            "3\n",
            "O número sorteado foi: 2\n",
            "0 - Fim  1 - Iniciar  2 - Sorteados  3 - Sortear\n",
            "3\n",
            "O número sorteado foi: 1\n",
            "0 - Fim  1 - Iniciar  2 - Sorteados  3 - Sortear\n",
            "3\n",
            "O jogo acabou\n",
            "0 - Fim  1 - Iniciar  2 - Sorteados  3 - Sortear\n"
          ]
        },
        {
          "output_type": "error",
          "ename": "KeyboardInterrupt",
          "evalue": "ignored",
          "traceback": [
            "\u001b[0;31m---------------------------------------------------------------------------\u001b[0m",
            "\u001b[0;31mKeyboardInterrupt\u001b[0m                         Traceback (most recent call last)",
            "\u001b[0;32m<ipython-input-9-a34b647ab391>\u001b[0m in \u001b[0;36m<cell line: 50>\u001b[0;34m()\u001b[0m\n\u001b[1;32m     48\u001b[0m \u001b[0;34m\u001b[0m\u001b[0m\n\u001b[1;32m     49\u001b[0m \u001b[0;34m\u001b[0m\u001b[0m\n\u001b[0;32m---> 50\u001b[0;31m \u001b[0mUI\u001b[0m\u001b[0;34m.\u001b[0m\u001b[0mmain\u001b[0m\u001b[0;34m(\u001b[0m\u001b[0;34m)\u001b[0m\u001b[0;34m\u001b[0m\u001b[0;34m\u001b[0m\u001b[0m\n\u001b[0m",
            "\u001b[0;32m<ipython-input-9-a34b647ab391>\u001b[0m in \u001b[0;36mmain\u001b[0;34m()\u001b[0m\n\u001b[1;32m     36\u001b[0m \u001b[0;34m\u001b[0m\u001b[0m\n\u001b[1;32m     37\u001b[0m     \u001b[0;32mwhile\u001b[0m \u001b[0mop\u001b[0m \u001b[0;34m!=\u001b[0m \u001b[0;36m0\u001b[0m\u001b[0;34m:\u001b[0m\u001b[0;34m\u001b[0m\u001b[0;34m\u001b[0m\u001b[0m\n\u001b[0;32m---> 38\u001b[0;31m       \u001b[0mop\u001b[0m \u001b[0;34m=\u001b[0m \u001b[0mUI\u001b[0m\u001b[0;34m.\u001b[0m\u001b[0mmenu\u001b[0m\u001b[0;34m(\u001b[0m\u001b[0;34m)\u001b[0m\u001b[0;34m\u001b[0m\u001b[0;34m\u001b[0m\u001b[0m\n\u001b[0m\u001b[1;32m     39\u001b[0m       \u001b[0;32mif\u001b[0m \u001b[0mop\u001b[0m \u001b[0;34m==\u001b[0m \u001b[0;36m1\u001b[0m\u001b[0;34m:\u001b[0m\u001b[0;34m\u001b[0m\u001b[0;34m\u001b[0m\u001b[0m\n\u001b[1;32m     40\u001b[0m         \u001b[0mb\u001b[0m\u001b[0;34m.\u001b[0m\u001b[0miniciar\u001b[0m\u001b[0;34m(\u001b[0m\u001b[0mint\u001b[0m\u001b[0;34m(\u001b[0m\u001b[0minput\u001b[0m\u001b[0;34m(\u001b[0m\u001b[0;34m\"Numero de bolas\"\u001b[0m\u001b[0;34m)\u001b[0m\u001b[0;34m)\u001b[0m\u001b[0;34m)\u001b[0m\u001b[0;34m\u001b[0m\u001b[0;34m\u001b[0m\u001b[0m\n",
            "\u001b[0;32m<ipython-input-9-a34b647ab391>\u001b[0m in \u001b[0;36mmenu\u001b[0;34m()\u001b[0m\n\u001b[1;32m     28\u001b[0m   \u001b[0;32mdef\u001b[0m \u001b[0mmenu\u001b[0m\u001b[0;34m(\u001b[0m\u001b[0;34m)\u001b[0m\u001b[0;34m:\u001b[0m\u001b[0;34m\u001b[0m\u001b[0;34m\u001b[0m\u001b[0m\n\u001b[1;32m     29\u001b[0m    \u001b[0mprint\u001b[0m\u001b[0;34m(\u001b[0m\u001b[0;34m\"0 - Fim  1 - Iniciar  2 - Sorteados  3 - Sortear\"\u001b[0m\u001b[0;34m)\u001b[0m\u001b[0;34m\u001b[0m\u001b[0;34m\u001b[0m\u001b[0m\n\u001b[0;32m---> 30\u001b[0;31m    \u001b[0;32mreturn\u001b[0m \u001b[0mint\u001b[0m\u001b[0;34m(\u001b[0m\u001b[0minput\u001b[0m\u001b[0;34m(\u001b[0m\u001b[0;34m)\u001b[0m\u001b[0;34m)\u001b[0m\u001b[0;34m\u001b[0m\u001b[0;34m\u001b[0m\u001b[0m\n\u001b[0m\u001b[1;32m     31\u001b[0m \u001b[0;34m\u001b[0m\u001b[0m\n\u001b[1;32m     32\u001b[0m   \u001b[0;34m@\u001b[0m\u001b[0mstaticmethod\u001b[0m\u001b[0;34m\u001b[0m\u001b[0;34m\u001b[0m\u001b[0m\n",
            "\u001b[0;32m/usr/local/lib/python3.10/dist-packages/ipykernel/kernelbase.py\u001b[0m in \u001b[0;36mraw_input\u001b[0;34m(self, prompt)\u001b[0m\n\u001b[1;32m    849\u001b[0m                 \u001b[0;34m\"raw_input was called, but this frontend does not support input requests.\"\u001b[0m\u001b[0;34m\u001b[0m\u001b[0;34m\u001b[0m\u001b[0m\n\u001b[1;32m    850\u001b[0m             )\n\u001b[0;32m--> 851\u001b[0;31m         return self._input_request(str(prompt),\n\u001b[0m\u001b[1;32m    852\u001b[0m             \u001b[0mself\u001b[0m\u001b[0;34m.\u001b[0m\u001b[0m_parent_ident\u001b[0m\u001b[0;34m,\u001b[0m\u001b[0;34m\u001b[0m\u001b[0;34m\u001b[0m\u001b[0m\n\u001b[1;32m    853\u001b[0m             \u001b[0mself\u001b[0m\u001b[0;34m.\u001b[0m\u001b[0m_parent_header\u001b[0m\u001b[0;34m,\u001b[0m\u001b[0;34m\u001b[0m\u001b[0;34m\u001b[0m\u001b[0m\n",
            "\u001b[0;32m/usr/local/lib/python3.10/dist-packages/ipykernel/kernelbase.py\u001b[0m in \u001b[0;36m_input_request\u001b[0;34m(self, prompt, ident, parent, password)\u001b[0m\n\u001b[1;32m    893\u001b[0m             \u001b[0;32mexcept\u001b[0m \u001b[0mKeyboardInterrupt\u001b[0m\u001b[0;34m:\u001b[0m\u001b[0;34m\u001b[0m\u001b[0;34m\u001b[0m\u001b[0m\n\u001b[1;32m    894\u001b[0m                 \u001b[0;31m# re-raise KeyboardInterrupt, to truncate traceback\u001b[0m\u001b[0;34m\u001b[0m\u001b[0;34m\u001b[0m\u001b[0m\n\u001b[0;32m--> 895\u001b[0;31m                 \u001b[0;32mraise\u001b[0m \u001b[0mKeyboardInterrupt\u001b[0m\u001b[0;34m(\u001b[0m\u001b[0;34m\"Interrupted by user\"\u001b[0m\u001b[0;34m)\u001b[0m \u001b[0;32mfrom\u001b[0m \u001b[0;32mNone\u001b[0m\u001b[0;34m\u001b[0m\u001b[0;34m\u001b[0m\u001b[0m\n\u001b[0m\u001b[1;32m    896\u001b[0m             \u001b[0;32mexcept\u001b[0m \u001b[0mException\u001b[0m \u001b[0;32mas\u001b[0m \u001b[0me\u001b[0m\u001b[0;34m:\u001b[0m\u001b[0;34m\u001b[0m\u001b[0;34m\u001b[0m\u001b[0m\n\u001b[1;32m    897\u001b[0m                 \u001b[0mself\u001b[0m\u001b[0;34m.\u001b[0m\u001b[0mlog\u001b[0m\u001b[0;34m.\u001b[0m\u001b[0mwarning\u001b[0m\u001b[0;34m(\u001b[0m\u001b[0;34m\"Invalid Message:\"\u001b[0m\u001b[0;34m,\u001b[0m \u001b[0mexc_info\u001b[0m\u001b[0;34m=\u001b[0m\u001b[0;32mTrue\u001b[0m\u001b[0;34m)\u001b[0m\u001b[0;34m\u001b[0m\u001b[0;34m\u001b[0m\u001b[0m\n",
            "\u001b[0;31mKeyboardInterrupt\u001b[0m: Interrupted by user"
          ]
        }
      ]
    },
    {
      "cell_type": "code",
      "source": [
        "from datetime import datetime\n",
        "\n",
        "class Paciente():\n",
        "  def __init__(self, nome, nasc):\n",
        "    self.__nome = nome\n",
        "    self.__nasc = nasc\n",
        "\n",
        "  def __str__(self):\n",
        "    return f\"{self.__nome} - {self.__nasc}\"\n",
        "\n",
        "class UI():\n",
        "\n",
        "  @staticmethod\n",
        "  def main():\n",
        "      nome = input(\"Informe seu nome\")\n",
        "      nasc = input(\"Informa sua data de nascimento dd/mm/aaaa\")\n",
        "\n",
        "      dia, mes, ano = map(int, nasc.split(\"/\"))\n",
        "      f1 = datetime(ano, mes, dia)\n",
        "      f2 = datetime.strptime(nasc, \"%d/%m/%Y\")\n",
        "\n",
        "      p1 = Paciente(nome, f1)\n",
        "      p2 = Paciente(nome, f2)\n",
        "\n",
        "      print(p1)\n",
        "      print(p2)\n",
        "\n",
        "UI.main()\n",
        "\n"
      ],
      "metadata": {
        "id": "AqR1X-8VW95L"
      },
      "execution_count": null,
      "outputs": []
    },
    {
      "cell_type": "code",
      "source": [
        "from datetime import datetime\n",
        "\n",
        "class Paciente():\n",
        "  def __init__(self, nome, cpf, telefone, nascimento):\n",
        "    self.__nome = nome\n",
        "    self.__cpf = cpf\n",
        "    self.__telefone = telefone\n",
        "    self.__nascimento = nascimento\n",
        "\n",
        "  def idade(self):\n",
        "    dia, mes, ano = map(int, self.__nascimento.split(\"/\"))\n",
        "    x = datetime(ano, mes, dia)\n",
        "  def __str__(self):"
      ],
      "metadata": {
        "id": "FwQLv1JqeFgC"
      },
      "execution_count": null,
      "outputs": []
    },
    {
      "cell_type": "markdown",
      "source": [
        "Lista de revisão 05 - 28/07"
      ],
      "metadata": {
        "id": "UihXcGD1a5RX"
      }
    },
    {
      "cell_type": "code",
      "source": [
        "from datatime import datatime\n",
        "\n",
        "class Esporte():\n",
        "  def __init__(self, nome, prova, recordes):\n",
        "    self.__nome = nome\n",
        "    self.__prova = prova\n",
        "    self.__recordes = []\n",
        "\n",
        "  def inserir(self, Esportes):\n",
        "     self.__nome.append(Esportes)\n",
        "\n",
        "  def RetornaEsporte(self):\n",
        "    return Esporte()\n",
        "\n",
        "  def RetornaRecorde(self):\n",
        "    return min(int(self.__recordes) for self.__recordes in self.__recordes)\n",
        "\n",
        "  def __str__(self):\n",
        "\n",
        "class Recordes():\n",
        "  def __init__(self, atleta, nascionalidade, data, tempo)\n",
        "   self.__atleta = atleta\n",
        "   self.__nascionalidade = nascionalidade\n",
        "   self.__data = data\n",
        "   self.__tempo = tempo\n",
        "\n",
        "  def RetorneValor(self):\n",
        "    return f\"{self.__atleta} - {self.__nascionalidade} - {self.__data} - {self.__tempo}\"\n",
        "\n",
        "\n",
        "\n"
      ],
      "metadata": {
        "id": "nQxXI-IoavOf"
      },
      "execution_count": null,
      "outputs": []
    },
    {
      "cell_type": "code",
      "source": [],
      "metadata": {
        "id": "qEOZmRhnddfM"
      },
      "execution_count": null,
      "outputs": []
    }
  ]
}